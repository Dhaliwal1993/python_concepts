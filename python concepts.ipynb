{
 "cells": [
  {
   "cell_type": "code",
   "execution_count": 3,
   "metadata": {},
   "outputs": [
    {
     "name": "stdout",
     "output_type": "stream",
     "text": [
      "gursimrat\n"
     ]
    }
   ],
   "source": [
    "#Class and Object Concept\n",
    "class demo: # declaring and defining class\n",
    "    name=\"gursimrat\"\n",
    "d=demo() #creating object of class\n",
    "print(d.name) # calling variable of class using the object"
   ]
  },
  {
   "cell_type": "code",
   "execution_count": 7,
   "metadata": {},
   "outputs": [
    {
     "name": "stdout",
     "output_type": "stream",
     "text": [
      "Smith\n",
      "17\n"
     ]
    }
   ],
   "source": [
    "#__init__() function is built function\n",
    "class demo:\n",
    "    def __init__(self,name,age):\n",
    "        self.name=name;\n",
    "        self.age=age;\n",
    "d=demo(\"Smith\",17)\n",
    "print(d.name)\n",
    "print(d.age)"
   ]
  },
  {
   "cell_type": "code",
   "execution_count": 1,
   "metadata": {},
   "outputs": [
    {
     "name": "stdout",
     "output_type": "stream",
     "text": [
      "This is feature 4\n",
      "This is feature 5\n"
     ]
    }
   ],
   "source": [
    "class A:\n",
    "    def f1(self):\n",
    "        print(\"This is feature 1\")\n",
    "    def f2(self):\n",
    "        print(\"This is feature 2\")\n",
    "class B:\n",
    "    def f3(self):\n",
    "        print(\"This is feature 3\")\n",
    "    def f4(self):\n",
    "        print(\"This is feature 4\")\n",
    "class C(A,B):\n",
    "    def f5(self):\n",
    "        super().f4()\n",
    "        print(\"This is feature 5\")\n",
    "c1=C()\n",
    "c1.f5()"
   ]
  },
  {
   "cell_type": "code",
   "execution_count": 6,
   "metadata": {},
   "outputs": [
    {
     "name": "stdout",
     "output_type": "stream",
     "text": [
      "Class A\n",
      "Class A\n",
      "Class B\n",
      "Class B\n"
     ]
    }
   ],
   "source": [
    "# The question is to call __init__() functions of both classes A and B using the object of class C\n",
    "class A:\n",
    "    def __init__(self):\n",
    "        print(\"Class A\")\n",
    "class B:\n",
    "    def __init__(self):\n",
    "        print(\"Class B\")\n",
    "class C(A,B):       #Multiple Inheritance\n",
    "    def __init__(self):\n",
    "        super().__init__()\n",
    "        super().__init__()\n",
    "class D(B,A):\n",
    "    def __init__(self):\n",
    "        super().__init__()\n",
    "        super().__init__()\n",
    "c1=C()\n",
    "d1=D()"
   ]
  },
  {
   "cell_type": "code",
   "execution_count": 5,
   "metadata": {},
   "outputs": [
    {
     "name": "stdout",
     "output_type": "stream",
     "text": [
      "Class A\n",
      "Class A\n",
      "This is Class A\n",
      "This is Class B\n"
     ]
    }
   ],
   "source": [
    "class A:\n",
    "    def __init__(self):\n",
    "        print(\"Class A\")\n",
    "    def display1(self):\n",
    "        print(\"This is Class A\")\n",
    "class B:\n",
    "    def __init__(self):\n",
    "        print(\"Class B\")\n",
    "    def display2(self):\n",
    "        print(\"This is Class B\")\n",
    "class C(A,B):\n",
    "    def __init__(self):\n",
    "        super().__init__()\n",
    "        super().__init__()\n",
    "        super().display1()\n",
    "        super().display2()        \n",
    "c1=C()\n"
   ]
  },
  {
   "cell_type": "code",
   "execution_count": 28,
   "metadata": {},
   "outputs": [
    {
     "name": "stdout",
     "output_type": "stream",
     "text": [
      "This is myeditor1\n"
     ]
    }
   ],
   "source": [
    "#Duck Typing\n",
    "class myeditor1:\n",
    "    def execute(self):\n",
    "        print(\"This is myeditor1\")\n",
    "class myeditor2:\n",
    "    def execute(self):\n",
    "        print(\"This is myeditor2\")\n",
    "class main:\n",
    "    def code(self,ide):\n",
    "        ide.execute()\n",
    "ide=myeditor1()\n",
    "m1=main()\n",
    "m1.code(ide)"
   ]
  },
  {
   "cell_type": "code",
   "execution_count": 3,
   "metadata": {},
   "outputs": [
    {
     "name": "stdout",
     "output_type": "stream",
     "text": [
      "This is function of class A\n",
      "This is function of class B\n",
      "This is function of class C\n"
     ]
    }
   ],
   "source": [
    "#Multilevel Inheritance\n",
    "class A:\n",
    "    def displayA(self):\n",
    "        print(\"This is function of class A\")\n",
    "class B(A):\n",
    "    def displayB(self):\n",
    "        super().displayA()  # show contents of displayA()\n",
    "        print(\"This is function of class B\")\n",
    "class C(B):\n",
    "    def displayC(self):\n",
    "        super().displayB()  # show contents of displayB()\n",
    "        print(\"This is function of class C\")\n",
    "c=C()\n",
    "c.displayC()"
   ]
  },
  {
   "cell_type": "code",
   "execution_count": 26,
   "metadata": {},
   "outputs": [
    {
     "name": "stdout",
     "output_type": "stream",
     "text": [
      "Class B\n"
     ]
    }
   ],
   "source": [
    "#Method Overriding\n",
    "class A:\n",
    "    def display(self):\n",
    "        print(\"Class A\")\n",
    "class B(A):\n",
    "    def display(self):\n",
    "        print(\"Class B\")\n",
    "class C(B):\n",
    "    pass\n",
    "c=C()\n",
    "c.display()"
   ]
  },
  {
   "cell_type": "code",
   "execution_count": 42,
   "metadata": {},
   "outputs": [
    {
     "name": "stdout",
     "output_type": "stream",
     "text": [
      "Sum of two variables: 3\n",
      "Sum of three variables: 6\n"
     ]
    }
   ],
   "source": [
    "#Method Overloading and it is not supported \n",
    "class A:\n",
    "    def add(self,a=None,b=None):\n",
    "        sum=a+b\n",
    "        return sum\n",
    "    def add1(self,a=None,b=None,c=None):\n",
    "        sum=0\n",
    "        if a!=None and b!=None and c!=None:\n",
    "            sum=a+b+c\n",
    "        elif a!=None and b!=None and c==None:\n",
    "            sum=a+b\n",
    "        elif a!=None and b==None and c!=None:\n",
    "            sum=a+c\n",
    "        elif a==None and b!=None and c!=None:\n",
    "            sum=b+c\n",
    "        return sum\n",
    "a=A()\n",
    "print(\"Sum of two variables:\",a.add(1,2))\n",
    "print(\"Sum of three variables:\",a.add1(1,2,3))"
   ]
  },
  {
   "cell_type": "code",
   "execution_count": 48,
   "metadata": {},
   "outputs": [
    {
     "name": "stdout",
     "output_type": "stream",
     "text": [
      "Sum of a and b is: 3\n",
      "Minus of a and b is: 1\n",
      "Multiply of a and b is: 2\n"
     ]
    }
   ],
   "source": [
    "#magic methods\n",
    "a=1\n",
    "b=2\n",
    "print(\"Sum of a and b is:\",int.__add__(a,b))\n",
    "print(\"Minus of a and b is:\",int.__sub__(b,a))\n",
    "print(\"Multiply of a and b is:\",int.__mul__(a,b))"
   ]
  },
  {
   "cell_type": "code",
   "execution_count": 65,
   "metadata": {},
   "outputs": [
    {
     "name": "stdout",
     "output_type": "stream",
     "text": [
      "Student 1 wins\n",
      "Marks of student 1 is: 62 90\n",
      "Marks of student 2 is: 62 80\n"
     ]
    }
   ],
   "source": [
    "#operator overloading\n",
    "class student:\n",
    "    def __init__(self,m1,m2):\n",
    "        self.m1=m1\n",
    "        self.m2=m2\n",
    "    def __ge__(self,other):\n",
    "        r1=self.m1 + self.m2 # combining marks of s1 i.e 62 and 79\n",
    "        r2=other.m1 + other.m2 # combining marks of s2 i.e 86 and 76\n",
    "        if r1>r2:\n",
    "            return True\n",
    "        else:\n",
    "            return False    \n",
    "    def __str__(self):\n",
    "        return '{} {}'.format(self.m1,self.m2)\n",
    "s1=student(62,90)\n",
    "s2=student(62,80)\n",
    "if s1>=s2:\n",
    "    print(\"Student 1 wins\")\n",
    "elif s1<=s2:\n",
    "    print(\"Student 2 wins\")\n",
    "else:\n",
    "    print(\"Equal Marks\")\n",
    "print(\"Marks of student 1 is:\",s1)\n",
    "print(\"Marks of student 2 is:\",s2)"
   ]
  },
  {
   "cell_type": "code",
   "execution_count": null,
   "metadata": {},
   "outputs": [],
   "source": []
  }
 ],
 "metadata": {
  "kernelspec": {
   "display_name": "Python 3",
   "language": "python",
   "name": "python3"
  },
  "language_info": {
   "codemirror_mode": {
    "name": "ipython",
    "version": 3
   },
   "file_extension": ".py",
   "mimetype": "text/x-python",
   "name": "python",
   "nbconvert_exporter": "python",
   "pygments_lexer": "ipython3",
   "version": "3.7.1"
  }
 },
 "nbformat": 4,
 "nbformat_minor": 2
}
